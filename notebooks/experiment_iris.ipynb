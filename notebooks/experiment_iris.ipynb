{
 "cells": [
  {
   "cell_type": "code",
   "id": "initial_id",
   "metadata": {
    "collapsed": true,
    "ExecuteTime": {
     "end_time": "2025-01-04T17:27:36.245755Z",
     "start_time": "2025-01-04T17:27:36.222596Z"
    }
   },
   "source": "from code.utils import test",
   "outputs": [],
   "execution_count": 1
  },
  {
   "metadata": {},
   "cell_type": "markdown",
   "source": "",
   "id": "231d390b1ccdbac4"
  },
  {
   "metadata": {
    "ExecuteTime": {
     "end_time": "2025-01-04T17:27:38.508232Z",
     "start_time": "2025-01-04T17:27:38.489911Z"
    }
   },
   "cell_type": "code",
   "source": "test()",
   "id": "99f2851d5764e694",
   "outputs": [
    {
     "name": "stdout",
     "output_type": "stream",
     "text": [
      "test2221111\n"
     ]
    }
   ],
   "execution_count": 2
  }
 ],
 "metadata": {
  "kernelspec": {
   "display_name": "Python 3",
   "language": "python",
   "name": "python3"
  },
  "language_info": {
   "codemirror_mode": {
    "name": "ipython",
    "version": 2
   },
   "file_extension": ".py",
   "mimetype": "text/x-python",
   "name": "python",
   "nbconvert_exporter": "python",
   "pygments_lexer": "ipython2",
   "version": "2.7.6"
  }
 },
 "nbformat": 4,
 "nbformat_minor": 5
}
