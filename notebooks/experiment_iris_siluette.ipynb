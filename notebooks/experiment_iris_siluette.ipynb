{
 "cells": [
  {
   "metadata": {
    "ExecuteTime": {
     "end_time": "2025-01-10T14:49:52.979004Z",
     "start_time": "2025-01-10T14:49:48.793620Z"
    }
   },
   "cell_type": "code",
   "source": [
    "import numpy as np\n",
    "# Experiment with Iris Dataset\n",
    "\n",
    "import pandas as pd\n",
    "from code.utils import load_data, plot_clusters, display_and_save_metrics_table, calculate_metrics\n",
    "from code.clustering import run_kmeans, elbow_method, align_labels_and_centroids\n",
    "from code.post_processing import detect_misclassified_with_silhouette, post_process_with_rf, \\\n",
    "    split_stable_and_misclassified"
   ],
   "id": "f940652d796f229b",
   "outputs": [],
   "execution_count": 1
  },
  {
   "metadata": {
    "ExecuteTime": {
     "end_time": "2025-01-10T14:49:55.955304Z",
     "start_time": "2025-01-10T14:49:52.996007Z"
    }
   },
   "cell_type": "code",
   "source": [
    "data_path = \"../data/Iris-150.txt\"\n",
    "data, encoded_labels, label_mapping = load_data(data_path)\n",
    "\n",
    "# Assign original_labels for metric calculations\n",
    "original_labels: np.ndarray = encoded_labels  # Use the numeric-encoded labels for calculations\n",
    "\n",
    "print(\"Label Mapping:\")\n",
    "print(label_mapping)\n"
   ],
   "id": "d941a76ad9000717",
   "outputs": [
    {
     "ename": "ValueError",
     "evalue": "Found array with 0 sample(s) (shape=(0, 4)) while a minimum of 1 is required by StandardScaler.",
     "output_type": "error",
     "traceback": [
      "\u001B[1;31m---------------------------------------------------------------------------\u001B[0m",
      "\u001B[1;31mValueError\u001B[0m                                Traceback (most recent call last)",
      "Cell \u001B[1;32mIn[2], line 2\u001B[0m\n\u001B[0;32m      1\u001B[0m data_path \u001B[38;5;241m=\u001B[39m \u001B[38;5;124m\"\u001B[39m\u001B[38;5;124m../data/Iris-150.txt\u001B[39m\u001B[38;5;124m\"\u001B[39m\n\u001B[1;32m----> 2\u001B[0m data, encoded_labels, label_mapping \u001B[38;5;241m=\u001B[39m \u001B[43mload_data\u001B[49m\u001B[43m(\u001B[49m\u001B[43mdata_path\u001B[49m\u001B[43m)\u001B[49m\n\u001B[0;32m      4\u001B[0m \u001B[38;5;66;03m# Assign original_labels for metric calculations\u001B[39;00m\n\u001B[0;32m      5\u001B[0m original_labels: np\u001B[38;5;241m.\u001B[39mndarray \u001B[38;5;241m=\u001B[39m encoded_labels  \u001B[38;5;66;03m# Use the numeric-encoded labels for calculations\u001B[39;00m\n",
      "File \u001B[1;32m~\\Desktop\\facultate\\master\\an1\\BDA\\BDA_Project\\code\\utils.py:35\u001B[0m, in \u001B[0;36mload_data\u001B[1;34m(file_path, has_labels)\u001B[0m\n\u001B[0;32m     33\u001B[0m scaler \u001B[38;5;241m=\u001B[39m StandardScaler()\n\u001B[0;32m     34\u001B[0m \u001B[38;5;28;01mif\u001B[39;00m has_labels:\n\u001B[1;32m---> 35\u001B[0m     scaled_data \u001B[38;5;241m=\u001B[39m \u001B[43mscaler\u001B[49m\u001B[38;5;241;43m.\u001B[39;49m\u001B[43mfit_transform\u001B[49m\u001B[43m(\u001B[49m\u001B[43mdata\u001B[49m\u001B[38;5;241;43m.\u001B[39;49m\u001B[43miloc\u001B[49m\u001B[43m[\u001B[49m\u001B[43m:\u001B[49m\u001B[43m,\u001B[49m\u001B[43m \u001B[49m\u001B[43m:\u001B[49m\u001B[38;5;241;43m-\u001B[39;49m\u001B[38;5;241;43m1\u001B[39;49m\u001B[43m]\u001B[49m\u001B[43m)\u001B[49m  \u001B[38;5;66;03m# Exclude label column\u001B[39;00m\n\u001B[0;32m     36\u001B[0m     scaled_df \u001B[38;5;241m=\u001B[39m pd\u001B[38;5;241m.\u001B[39mDataFrame(scaled_data, columns\u001B[38;5;241m=\u001B[39mdata\u001B[38;5;241m.\u001B[39mcolumns[:\u001B[38;5;241m-\u001B[39m\u001B[38;5;241m1\u001B[39m])\n\u001B[0;32m     37\u001B[0m     labels \u001B[38;5;241m=\u001B[39m data\u001B[38;5;241m.\u001B[39miloc[:, \u001B[38;5;241m-\u001B[39m\u001B[38;5;241m1\u001B[39m]  \u001B[38;5;66;03m# Extract labels\u001B[39;00m\n",
      "File \u001B[1;32m~\\Desktop\\facultate\\master\\an1\\BDA\\BDA_Project\\.venv\\Lib\\site-packages\\sklearn\\utils\\_set_output.py:319\u001B[0m, in \u001B[0;36m_wrap_method_output.<locals>.wrapped\u001B[1;34m(self, X, *args, **kwargs)\u001B[0m\n\u001B[0;32m    317\u001B[0m \u001B[38;5;129m@wraps\u001B[39m(f)\n\u001B[0;32m    318\u001B[0m \u001B[38;5;28;01mdef\u001B[39;00m \u001B[38;5;21mwrapped\u001B[39m(\u001B[38;5;28mself\u001B[39m, X, \u001B[38;5;241m*\u001B[39margs, \u001B[38;5;241m*\u001B[39m\u001B[38;5;241m*\u001B[39mkwargs):\n\u001B[1;32m--> 319\u001B[0m     data_to_wrap \u001B[38;5;241m=\u001B[39m \u001B[43mf\u001B[49m\u001B[43m(\u001B[49m\u001B[38;5;28;43mself\u001B[39;49m\u001B[43m,\u001B[49m\u001B[43m \u001B[49m\u001B[43mX\u001B[49m\u001B[43m,\u001B[49m\u001B[43m \u001B[49m\u001B[38;5;241;43m*\u001B[39;49m\u001B[43margs\u001B[49m\u001B[43m,\u001B[49m\u001B[43m \u001B[49m\u001B[38;5;241;43m*\u001B[39;49m\u001B[38;5;241;43m*\u001B[39;49m\u001B[43mkwargs\u001B[49m\u001B[43m)\u001B[49m\n\u001B[0;32m    320\u001B[0m     \u001B[38;5;28;01mif\u001B[39;00m \u001B[38;5;28misinstance\u001B[39m(data_to_wrap, \u001B[38;5;28mtuple\u001B[39m):\n\u001B[0;32m    321\u001B[0m         \u001B[38;5;66;03m# only wrap the first output for cross decomposition\u001B[39;00m\n\u001B[0;32m    322\u001B[0m         return_tuple \u001B[38;5;241m=\u001B[39m (\n\u001B[0;32m    323\u001B[0m             _wrap_data_with_container(method, data_to_wrap[\u001B[38;5;241m0\u001B[39m], X, \u001B[38;5;28mself\u001B[39m),\n\u001B[0;32m    324\u001B[0m             \u001B[38;5;241m*\u001B[39mdata_to_wrap[\u001B[38;5;241m1\u001B[39m:],\n\u001B[0;32m    325\u001B[0m         )\n",
      "File \u001B[1;32m~\\Desktop\\facultate\\master\\an1\\BDA\\BDA_Project\\.venv\\Lib\\site-packages\\sklearn\\base.py:918\u001B[0m, in \u001B[0;36mTransformerMixin.fit_transform\u001B[1;34m(self, X, y, **fit_params)\u001B[0m\n\u001B[0;32m    903\u001B[0m         warnings\u001B[38;5;241m.\u001B[39mwarn(\n\u001B[0;32m    904\u001B[0m             (\n\u001B[0;32m    905\u001B[0m                 \u001B[38;5;124mf\u001B[39m\u001B[38;5;124m\"\u001B[39m\u001B[38;5;124mThis object (\u001B[39m\u001B[38;5;132;01m{\u001B[39;00m\u001B[38;5;28mself\u001B[39m\u001B[38;5;241m.\u001B[39m\u001B[38;5;18m__class__\u001B[39m\u001B[38;5;241m.\u001B[39m\u001B[38;5;18m__name__\u001B[39m\u001B[38;5;132;01m}\u001B[39;00m\u001B[38;5;124m) has a `transform`\u001B[39m\u001B[38;5;124m\"\u001B[39m\n\u001B[1;32m   (...)\u001B[0m\n\u001B[0;32m    913\u001B[0m             \u001B[38;5;167;01mUserWarning\u001B[39;00m,\n\u001B[0;32m    914\u001B[0m         )\n\u001B[0;32m    916\u001B[0m \u001B[38;5;28;01mif\u001B[39;00m y \u001B[38;5;129;01mis\u001B[39;00m \u001B[38;5;28;01mNone\u001B[39;00m:\n\u001B[0;32m    917\u001B[0m     \u001B[38;5;66;03m# fit method of arity 1 (unsupervised transformation)\u001B[39;00m\n\u001B[1;32m--> 918\u001B[0m     \u001B[38;5;28;01mreturn\u001B[39;00m \u001B[38;5;28;43mself\u001B[39;49m\u001B[38;5;241;43m.\u001B[39;49m\u001B[43mfit\u001B[49m\u001B[43m(\u001B[49m\u001B[43mX\u001B[49m\u001B[43m,\u001B[49m\u001B[43m \u001B[49m\u001B[38;5;241;43m*\u001B[39;49m\u001B[38;5;241;43m*\u001B[39;49m\u001B[43mfit_params\u001B[49m\u001B[43m)\u001B[49m\u001B[38;5;241m.\u001B[39mtransform(X)\n\u001B[0;32m    919\u001B[0m \u001B[38;5;28;01melse\u001B[39;00m:\n\u001B[0;32m    920\u001B[0m     \u001B[38;5;66;03m# fit method of arity 2 (supervised transformation)\u001B[39;00m\n\u001B[0;32m    921\u001B[0m     \u001B[38;5;28;01mreturn\u001B[39;00m \u001B[38;5;28mself\u001B[39m\u001B[38;5;241m.\u001B[39mfit(X, y, \u001B[38;5;241m*\u001B[39m\u001B[38;5;241m*\u001B[39mfit_params)\u001B[38;5;241m.\u001B[39mtransform(X)\n",
      "File \u001B[1;32m~\\Desktop\\facultate\\master\\an1\\BDA\\BDA_Project\\.venv\\Lib\\site-packages\\sklearn\\preprocessing\\_data.py:894\u001B[0m, in \u001B[0;36mStandardScaler.fit\u001B[1;34m(self, X, y, sample_weight)\u001B[0m\n\u001B[0;32m    892\u001B[0m \u001B[38;5;66;03m# Reset internal state before fitting\u001B[39;00m\n\u001B[0;32m    893\u001B[0m \u001B[38;5;28mself\u001B[39m\u001B[38;5;241m.\u001B[39m_reset()\n\u001B[1;32m--> 894\u001B[0m \u001B[38;5;28;01mreturn\u001B[39;00m \u001B[38;5;28;43mself\u001B[39;49m\u001B[38;5;241;43m.\u001B[39;49m\u001B[43mpartial_fit\u001B[49m\u001B[43m(\u001B[49m\u001B[43mX\u001B[49m\u001B[43m,\u001B[49m\u001B[43m \u001B[49m\u001B[43my\u001B[49m\u001B[43m,\u001B[49m\u001B[43m \u001B[49m\u001B[43msample_weight\u001B[49m\u001B[43m)\u001B[49m\n",
      "File \u001B[1;32m~\\Desktop\\facultate\\master\\an1\\BDA\\BDA_Project\\.venv\\Lib\\site-packages\\sklearn\\base.py:1389\u001B[0m, in \u001B[0;36m_fit_context.<locals>.decorator.<locals>.wrapper\u001B[1;34m(estimator, *args, **kwargs)\u001B[0m\n\u001B[0;32m   1382\u001B[0m     estimator\u001B[38;5;241m.\u001B[39m_validate_params()\n\u001B[0;32m   1384\u001B[0m \u001B[38;5;28;01mwith\u001B[39;00m config_context(\n\u001B[0;32m   1385\u001B[0m     skip_parameter_validation\u001B[38;5;241m=\u001B[39m(\n\u001B[0;32m   1386\u001B[0m         prefer_skip_nested_validation \u001B[38;5;129;01mor\u001B[39;00m global_skip_validation\n\u001B[0;32m   1387\u001B[0m     )\n\u001B[0;32m   1388\u001B[0m ):\n\u001B[1;32m-> 1389\u001B[0m     \u001B[38;5;28;01mreturn\u001B[39;00m \u001B[43mfit_method\u001B[49m\u001B[43m(\u001B[49m\u001B[43mestimator\u001B[49m\u001B[43m,\u001B[49m\u001B[43m \u001B[49m\u001B[38;5;241;43m*\u001B[39;49m\u001B[43margs\u001B[49m\u001B[43m,\u001B[49m\u001B[43m \u001B[49m\u001B[38;5;241;43m*\u001B[39;49m\u001B[38;5;241;43m*\u001B[39;49m\u001B[43mkwargs\u001B[49m\u001B[43m)\u001B[49m\n",
      "File \u001B[1;32m~\\Desktop\\facultate\\master\\an1\\BDA\\BDA_Project\\.venv\\Lib\\site-packages\\sklearn\\preprocessing\\_data.py:930\u001B[0m, in \u001B[0;36mStandardScaler.partial_fit\u001B[1;34m(self, X, y, sample_weight)\u001B[0m\n\u001B[0;32m    898\u001B[0m \u001B[38;5;250m\u001B[39m\u001B[38;5;124;03m\"\"\"Online computation of mean and std on X for later scaling.\u001B[39;00m\n\u001B[0;32m    899\u001B[0m \n\u001B[0;32m    900\u001B[0m \u001B[38;5;124;03mAll of X is processed as a single batch. This is intended for cases\u001B[39;00m\n\u001B[1;32m   (...)\u001B[0m\n\u001B[0;32m    927\u001B[0m \u001B[38;5;124;03m    Fitted scaler.\u001B[39;00m\n\u001B[0;32m    928\u001B[0m \u001B[38;5;124;03m\"\"\"\u001B[39;00m\n\u001B[0;32m    929\u001B[0m first_call \u001B[38;5;241m=\u001B[39m \u001B[38;5;129;01mnot\u001B[39;00m \u001B[38;5;28mhasattr\u001B[39m(\u001B[38;5;28mself\u001B[39m, \u001B[38;5;124m\"\u001B[39m\u001B[38;5;124mn_samples_seen_\u001B[39m\u001B[38;5;124m\"\u001B[39m)\n\u001B[1;32m--> 930\u001B[0m X \u001B[38;5;241m=\u001B[39m \u001B[43mvalidate_data\u001B[49m\u001B[43m(\u001B[49m\n\u001B[0;32m    931\u001B[0m \u001B[43m    \u001B[49m\u001B[38;5;28;43mself\u001B[39;49m\u001B[43m,\u001B[49m\n\u001B[0;32m    932\u001B[0m \u001B[43m    \u001B[49m\u001B[43mX\u001B[49m\u001B[43m,\u001B[49m\n\u001B[0;32m    933\u001B[0m \u001B[43m    \u001B[49m\u001B[43maccept_sparse\u001B[49m\u001B[38;5;241;43m=\u001B[39;49m\u001B[43m(\u001B[49m\u001B[38;5;124;43m\"\u001B[39;49m\u001B[38;5;124;43mcsr\u001B[39;49m\u001B[38;5;124;43m\"\u001B[39;49m\u001B[43m,\u001B[49m\u001B[43m \u001B[49m\u001B[38;5;124;43m\"\u001B[39;49m\u001B[38;5;124;43mcsc\u001B[39;49m\u001B[38;5;124;43m\"\u001B[39;49m\u001B[43m)\u001B[49m\u001B[43m,\u001B[49m\n\u001B[0;32m    934\u001B[0m \u001B[43m    \u001B[49m\u001B[43mdtype\u001B[49m\u001B[38;5;241;43m=\u001B[39;49m\u001B[43mFLOAT_DTYPES\u001B[49m\u001B[43m,\u001B[49m\n\u001B[0;32m    935\u001B[0m \u001B[43m    \u001B[49m\u001B[43mensure_all_finite\u001B[49m\u001B[38;5;241;43m=\u001B[39;49m\u001B[38;5;124;43m\"\u001B[39;49m\u001B[38;5;124;43mallow-nan\u001B[39;49m\u001B[38;5;124;43m\"\u001B[39;49m\u001B[43m,\u001B[49m\n\u001B[0;32m    936\u001B[0m \u001B[43m    \u001B[49m\u001B[43mreset\u001B[49m\u001B[38;5;241;43m=\u001B[39;49m\u001B[43mfirst_call\u001B[49m\u001B[43m,\u001B[49m\n\u001B[0;32m    937\u001B[0m \u001B[43m\u001B[49m\u001B[43m)\u001B[49m\n\u001B[0;32m    938\u001B[0m n_features \u001B[38;5;241m=\u001B[39m X\u001B[38;5;241m.\u001B[39mshape[\u001B[38;5;241m1\u001B[39m]\n\u001B[0;32m    940\u001B[0m \u001B[38;5;28;01mif\u001B[39;00m sample_weight \u001B[38;5;129;01mis\u001B[39;00m \u001B[38;5;129;01mnot\u001B[39;00m \u001B[38;5;28;01mNone\u001B[39;00m:\n",
      "File \u001B[1;32m~\\Desktop\\facultate\\master\\an1\\BDA\\BDA_Project\\.venv\\Lib\\site-packages\\sklearn\\utils\\validation.py:2944\u001B[0m, in \u001B[0;36mvalidate_data\u001B[1;34m(_estimator, X, y, reset, validate_separately, skip_check_array, **check_params)\u001B[0m\n\u001B[0;32m   2942\u001B[0m         out \u001B[38;5;241m=\u001B[39m X, y\n\u001B[0;32m   2943\u001B[0m \u001B[38;5;28;01melif\u001B[39;00m \u001B[38;5;129;01mnot\u001B[39;00m no_val_X \u001B[38;5;129;01mand\u001B[39;00m no_val_y:\n\u001B[1;32m-> 2944\u001B[0m     out \u001B[38;5;241m=\u001B[39m \u001B[43mcheck_array\u001B[49m\u001B[43m(\u001B[49m\u001B[43mX\u001B[49m\u001B[43m,\u001B[49m\u001B[43m \u001B[49m\u001B[43minput_name\u001B[49m\u001B[38;5;241;43m=\u001B[39;49m\u001B[38;5;124;43m\"\u001B[39;49m\u001B[38;5;124;43mX\u001B[39;49m\u001B[38;5;124;43m\"\u001B[39;49m\u001B[43m,\u001B[49m\u001B[43m \u001B[49m\u001B[38;5;241;43m*\u001B[39;49m\u001B[38;5;241;43m*\u001B[39;49m\u001B[43mcheck_params\u001B[49m\u001B[43m)\u001B[49m\n\u001B[0;32m   2945\u001B[0m \u001B[38;5;28;01melif\u001B[39;00m no_val_X \u001B[38;5;129;01mand\u001B[39;00m \u001B[38;5;129;01mnot\u001B[39;00m no_val_y:\n\u001B[0;32m   2946\u001B[0m     out \u001B[38;5;241m=\u001B[39m _check_y(y, \u001B[38;5;241m*\u001B[39m\u001B[38;5;241m*\u001B[39mcheck_params)\n",
      "File \u001B[1;32m~\\Desktop\\facultate\\master\\an1\\BDA\\BDA_Project\\.venv\\Lib\\site-packages\\sklearn\\utils\\validation.py:1130\u001B[0m, in \u001B[0;36mcheck_array\u001B[1;34m(array, accept_sparse, accept_large_sparse, dtype, order, copy, force_writeable, force_all_finite, ensure_all_finite, ensure_non_negative, ensure_2d, allow_nd, ensure_min_samples, ensure_min_features, estimator, input_name)\u001B[0m\n\u001B[0;32m   1128\u001B[0m     n_samples \u001B[38;5;241m=\u001B[39m _num_samples(array)\n\u001B[0;32m   1129\u001B[0m     \u001B[38;5;28;01mif\u001B[39;00m n_samples \u001B[38;5;241m<\u001B[39m ensure_min_samples:\n\u001B[1;32m-> 1130\u001B[0m         \u001B[38;5;28;01mraise\u001B[39;00m \u001B[38;5;167;01mValueError\u001B[39;00m(\n\u001B[0;32m   1131\u001B[0m             \u001B[38;5;124m\"\u001B[39m\u001B[38;5;124mFound array with \u001B[39m\u001B[38;5;132;01m%d\u001B[39;00m\u001B[38;5;124m sample(s) (shape=\u001B[39m\u001B[38;5;132;01m%s\u001B[39;00m\u001B[38;5;124m) while a\u001B[39m\u001B[38;5;124m\"\u001B[39m\n\u001B[0;32m   1132\u001B[0m             \u001B[38;5;124m\"\u001B[39m\u001B[38;5;124m minimum of \u001B[39m\u001B[38;5;132;01m%d\u001B[39;00m\u001B[38;5;124m is required\u001B[39m\u001B[38;5;132;01m%s\u001B[39;00m\u001B[38;5;124m.\u001B[39m\u001B[38;5;124m\"\u001B[39m\n\u001B[0;32m   1133\u001B[0m             \u001B[38;5;241m%\u001B[39m (n_samples, array\u001B[38;5;241m.\u001B[39mshape, ensure_min_samples, context)\n\u001B[0;32m   1134\u001B[0m         )\n\u001B[0;32m   1136\u001B[0m \u001B[38;5;28;01mif\u001B[39;00m ensure_min_features \u001B[38;5;241m>\u001B[39m \u001B[38;5;241m0\u001B[39m \u001B[38;5;129;01mand\u001B[39;00m array\u001B[38;5;241m.\u001B[39mndim \u001B[38;5;241m==\u001B[39m \u001B[38;5;241m2\u001B[39m:\n\u001B[0;32m   1137\u001B[0m     n_features \u001B[38;5;241m=\u001B[39m array\u001B[38;5;241m.\u001B[39mshape[\u001B[38;5;241m1\u001B[39m]\n",
      "\u001B[1;31mValueError\u001B[0m: Found array with 0 sample(s) (shape=(0, 4)) while a minimum of 1 is required by StandardScaler."
     ]
    }
   ],
   "execution_count": 2
  },
  {
   "metadata": {
    "ExecuteTime": {
     "end_time": "2025-01-10T14:49:55.994305500Z",
     "start_time": "2025-01-10T13:30:21.224098Z"
    }
   },
   "cell_type": "code",
   "source": [
    "# Elbow method to find optimal clusters\n",
    "print(\"Running Elbow Method...\")\n",
    "elbow_method(data, output_path=\"../results/iris/elbow_method.png\")\n"
   ],
   "id": "82984d6f5f043456",
   "outputs": [
    {
     "name": "stdout",
     "output_type": "stream",
     "text": [
      "Running Elbow Method...\n"
     ]
    },
    {
     "name": "stderr",
     "output_type": "stream",
     "text": [
      "C:\\Users\\User\\Desktop\\facultate\\master\\an1\\BDA\\BDA_Project\\.venv\\Lib\\site-packages\\joblib\\externals\\loky\\backend\\context.py:136: UserWarning: Could not find the number of physical cores for the following reason:\n",
      "[WinError 2] The system cannot find the file specified\n",
      "Returning the number of logical cores instead. You can silence this warning by setting LOKY_MAX_CPU_COUNT to the number of cores you want to use.\n",
      "  warnings.warn(\n",
      "  File \"C:\\Users\\User\\Desktop\\facultate\\master\\an1\\BDA\\BDA_Project\\.venv\\Lib\\site-packages\\joblib\\externals\\loky\\backend\\context.py\", line 257, in _count_physical_cores\n",
      "    cpu_info = subprocess.run(\n",
      "               ^^^^^^^^^^^^^^^\n",
      "  File \"C:\\Users\\User\\AppData\\Local\\Programs\\Python\\Python311\\Lib\\subprocess.py\", line 548, in run\n",
      "    with Popen(*popenargs, **kwargs) as process:\n",
      "         ^^^^^^^^^^^^^^^^^^^^^^^^^^^\n",
      "  File \"C:\\Users\\User\\AppData\\Local\\Programs\\Python\\Python311\\Lib\\subprocess.py\", line 1026, in __init__\n",
      "    self._execute_child(args, executable, preexec_fn, close_fds,\n",
      "  File \"C:\\Users\\User\\AppData\\Local\\Programs\\Python\\Python311\\Lib\\subprocess.py\", line 1538, in _execute_child\n",
      "    hp, ht, pid, tid = _winapi.CreateProcess(executable, args,\n",
      "                       ^^^^^^^^^^^^^^^^^^^^^^^^^^^^^^^^^^^^^^^\n"
     ]
    },
    {
     "data": {
      "text/plain": [
       "<Figure size 800x500 with 1 Axes>"
      ],
      "image/png": "[encoded data removed]"
     },
     "metadata": {},
     "output_type": "display_data"
    }
   ],
   "execution_count": 3
  },
  {
   "metadata": {
    "ExecuteTime": {
     "end_time": "2025-01-10T14:49:56.011303800Z",
     "start_time": "2025-01-10T13:30:23.025112Z"
    }
   },
   "cell_type": "code",
   "source": [
    "# Run K-Means clustering\n",
    "optimal_clusters = 3  # Replace with optimal number determined from elbow plot\n",
    "print(f\"Running K-Means with {optimal_clusters} clusters...\")\n",
    "kmeans_model, cluster_labels = run_kmeans(data, optimal_clusters)\n",
    "centroids = kmeans_model.cluster_centers_\n",
    "\n",
    "# Align cluster labels and centroids\n",
    "cluster_labels, centroids = align_labels_and_centroids(\n",
    "    true_labels=original_labels,\n",
    "    cluster_labels=cluster_labels,\n",
    "    centroids=centroids\n",
    ")\n",
    "\n",
    "# Verify the alignment\n",
    "print(\"Aligned Cluster Labels (first 10):\", cluster_labels[:10])\n",
    "print(\"Aligned Centroids:\", centroids)"
   ],
   "id": "1513c62151ccab9f",
   "outputs": [
    {
     "name": "stdout",
     "output_type": "stream",
     "text": [
      "Running K-Means with 3 clusters...\n",
      "Aligned Cluster Labels (first 10): [0 0 0 0 0 0 0 0 0 0]\n",
      "Aligned Centroids: [[-1.01457897  0.84230679 -1.30487835 -1.25512862]\n",
      " [-0.05021989 -0.88029181  0.34753171  0.28206327]\n",
      " [ 1.13597027  0.09659843  0.996271    1.01717187]]\n"
     ]
    }
   ],
   "execution_count": 4
  },
  {
   "metadata": {
    "ExecuteTime": {
     "end_time": "2025-01-10T14:49:56.014303800Z",
     "start_time": "2025-01-10T13:30:23.753183Z"
    }
   },
   "cell_type": "code",
   "source": [
    "# Plot initial K-Means clustering results\n",
    "print(\"Visualizing initial K-Means clustering...\")\n",
    "plot_clusters(data, cluster_labels, \"Initial K-Means Clustering\", \"../results/iris/initial_kmeans.png\")"
   ],
   "id": "ca5666f7f04afe44",
   "outputs": [
    {
     "name": "stdout",
     "output_type": "stream",
     "text": [
      "Visualizing initial K-Means clustering...\n"
     ]
    },
    {
     "data": {
      "text/plain": [
       "<Figure size 800x600 with 1 Axes>"
      ],
      "image/png": "[encoded data removed]"
     },
     "metadata": {},
     "output_type": "display_data"
    }
   ],
   "execution_count": 5
  },
  {
   "metadata": {
    "ExecuteTime": {
     "end_time": "2025-01-10T14:49:56.016304200Z",
     "start_time": "2025-01-10T13:30:24.743359Z"
    }
   },
   "cell_type": "code",
   "source": [
    "# Calculate K-Means metrics\n",
    "kmeans_metrics = calculate_metrics(original_labels, cluster_labels)\n",
    "print(f\"K-Means Metrics: {kmeans_metrics}\")"
   ],
   "id": "a31814982b228923",
   "outputs": [
    {
     "name": "stdout",
     "output_type": "stream",
     "text": [
      "K-Means Metrics: {'precision': 0.8339355011374281, 'recall': 0.8333333333333334, 'accuracy': 0.8333333333333334}\n"
     ]
    }
   ],
   "execution_count": 6
  },
  {
   "metadata": {
    "ExecuteTime": {
     "end_time": "2025-01-10T14:49:56.028302300Z",
     "start_time": "2025-01-10T13:30:25.237957Z"
    }
   },
   "cell_type": "code",
   "source": [
    "# Convert cluster_labels to pd.Series for compatibility\n",
    "cluster_labels = pd.Series(cluster_labels, index=data.index)"
   ],
   "id": "36a9607d2c1dde34",
   "outputs": [],
   "execution_count": 7
  },
  {
   "metadata": {
    "ExecuteTime": {
     "end_time": "2025-01-10T14:49:56.031299800Z",
     "start_time": "2025-01-10T13:30:25.708039Z"
    }
   },
   "cell_type": "code",
   "source": [
    "# Split stable and misclassified points\n",
    "print(\"Splitting stable and misclassified points using silhouette scores...\")\n",
    "stable_data, stable_labels, misclassified_data, misclassified_labels = detect_misclassified_with_silhouette(\n",
    "    data=pd.DataFrame(data),  # Features used for clustering\n",
    "    labels=pd.Series(cluster_labels, name=\"Cluster\"),  # Cluster assignments\n",
    "    threshold=0.4  # Threshold for silhouette scores\n",
    ")\n",
    "\n",
    "# Combine data and labels for visualization\n",
    "combined_data = pd.concat([stable_data, misclassified_data])\n",
    "combined_labels = pd.concat([stable_labels, misclassified_labels])\n",
    "\n",
    "# Visualize stable and misclassified points\n",
    "print(\"Visualizing stable and misclassified points...\")\n",
    "plot_clusters(\n",
    "    combined_data,\n",
    "    combined_labels,\n",
    "    title=\"Stable vs. Misclassified Points\",\n",
    "    output_path=\"../results/iris/stable_vs_misclassified-silhouette.png\"\n",
    ")\n"
   ],
   "id": "d5a79de6b735c097",
   "outputs": [
    {
     "name": "stdout",
     "output_type": "stream",
     "text": [
      "Splitting stable and misclassified points using silhouette scores...\n",
      "Visualizing stable and misclassified points...\n"
     ]
    },
    {
     "data": {
      "text/plain": [
       "<Figure size 800x600 with 1 Axes>"
      ],
      "image/png": "[encoded data removed]"
     },
     "metadata": {},
     "output_type": "display_data"
    }
   ],
   "execution_count": 8
  },
  {
   "metadata": {
    "ExecuteTime": {
     "end_time": "2025-01-10T14:49:56.032302300Z",
     "start_time": "2025-01-10T13:30:26.423934Z"
    }
   },
   "cell_type": "code",
   "source": "data[cluster_labels != original_labels]",
   "id": "bc5178bec2cbe406",
   "outputs": [
    {
     "data": {
      "text/plain": [
       "            0         1         2         3\n",
       "50   1.401508  0.337848  0.535296  0.264699\n",
       "51   0.674501  0.337848  0.421564  0.396172\n",
       "52   1.280340  0.106445  0.649027  0.396172\n",
       "56   0.553333  0.569251  0.535296  0.527645\n",
       "65   1.038005  0.106445  0.364699  0.264699\n",
       "70   0.068662  0.337848  0.592162  0.790591\n",
       "75   0.916837 -0.124958  0.364699  0.264699\n",
       "76   1.159173 -0.587764  0.592162  0.264699\n",
       "77   1.038005 -0.124958  0.705893  0.659118\n",
       "85   0.189830  0.800654  0.421564  0.527645\n",
       "86   1.038005  0.106445  0.535296  0.396172\n",
       "101 -0.052506 -0.819166  0.762759  0.922064\n",
       "106 -1.143017 -1.281972  0.421564  0.659118\n",
       "113 -0.173674 -1.281972  0.705893  1.053537\n",
       "114 -0.052506 -0.587764  0.762759  1.579429\n",
       "119  0.189830 -1.976181  0.705893  0.396172\n",
       "121 -0.294842 -0.587764  0.649027  1.053537\n",
       "123  0.553333 -0.819166  0.649027  0.790591\n",
       "126  0.432165 -0.587764  0.592162  0.790591\n",
       "133  0.553333 -0.587764  0.762759  0.396172\n",
       "134  0.310998 -1.050569  1.047087  0.264699\n",
       "138  0.189830 -0.124958  0.592162  0.790591\n",
       "142 -0.052506 -0.819166  0.762759  0.922064\n",
       "146  0.553333 -1.281972  0.705893  0.922064\n",
       "149  0.068662 -0.124958  0.762759  0.790591"
      ],
      "text/html": [
       "<div>\n",
       "<style scoped>\n",
       "    .dataframe tbody tr th:only-of-type {\n",
       "        vertical-align: middle;\n",
       "    }\n",
       "\n",
       "    .dataframe tbody tr th {\n",
       "        vertical-align: top;\n",
       "    }\n",
       "\n",
       "    .dataframe thead th {\n",
       "        text-align: right;\n",
       "    }\n",
       "</style>\n",
       "<table border=\"1\" class=\"dataframe\">\n",
       "  <thead>\n",
       "    <tr style=\"text-align: right;\">\n",
       "      <th></th>\n",
       "      <th>0</th>\n",
       "      <th>1</th>\n",
       "      <th>2</th>\n",
       "      <th>3</th>\n",
       "    </tr>\n",
       "  </thead>\n",
       "  <tbody>\n",
       "    <tr>\n",
       "      <th>50</th>\n",
       "      <td>1.401508</td>\n",
       "      <td>0.337848</td>\n",
       "      <td>0.535296</td>\n",
       "      <td>0.264699</td>\n",
       "    </tr>\n",
       "    <tr>\n",
       "      <th>51</th>\n",
       "      <td>0.674501</td>\n",
       "      <td>0.337848</td>\n",
       "      <td>0.421564</td>\n",
       "      <td>0.396172</td>\n",
       "    </tr>\n",
       "    <tr>\n",
       "      <th>52</th>\n",
       "      <td>1.280340</td>\n",
       "      <td>0.106445</td>\n",
       "      <td>0.649027</td>\n",
       "      <td>0.396172</td>\n",
       "    </tr>\n",
       "    <tr>\n",
       "      <th>56</th>\n",
       "      <td>0.553333</td>\n",
       "      <td>0.569251</td>\n",
       "      <td>0.535296</td>\n",
       "      <td>0.527645</td>\n",
       "    </tr>\n",
       "    <tr>\n",
       "      <th>65</th>\n",
       "      <td>1.038005</td>\n",
       "      <td>0.106445</td>\n",
       "      <td>0.364699</td>\n",
       "      <td>0.264699</td>\n",
       "    </tr>\n",
       "    <tr>\n",
       "      <th>70</th>\n",
       "      <td>0.068662</td>\n",
       "      <td>0.337848</td>\n",
       "      <td>0.592162</td>\n",
       "      <td>0.790591</td>\n",
       "    </tr>\n",
       "    <tr>\n",
       "      <th>75</th>\n",
       "      <td>0.916837</td>\n",
       "      <td>-0.124958</td>\n",
       "      <td>0.364699</td>\n",
       "      <td>0.264699</td>\n",
       "    </tr>\n",
       "    <tr>\n",
       "      <th>76</th>\n",
       "      <td>1.159173</td>\n",
       "      <td>-0.587764</td>\n",
       "      <td>0.592162</td>\n",
       "      <td>0.264699</td>\n",
       "    </tr>\n",
       "    <tr>\n",
       "      <th>77</th>\n",
       "      <td>1.038005</td>\n",
       "      <td>-0.124958</td>\n",
       "      <td>0.705893</td>\n",
       "      <td>0.659118</td>\n",
       "    </tr>\n",
       "    <tr>\n",
       "      <th>85</th>\n",
       "      <td>0.189830</td>\n",
       "      <td>0.800654</td>\n",
       "      <td>0.421564</td>\n",
       "      <td>0.527645</td>\n",
       "    </tr>\n",
       "    <tr>\n",
       "      <th>86</th>\n",
       "      <td>1.038005</td>\n",
       "      <td>0.106445</td>\n",
       "      <td>0.535296</td>\n",
       "      <td>0.396172</td>\n",
       "    </tr>\n",
       "    <tr>\n",
       "      <th>101</th>\n",
       "      <td>-0.052506</td>\n",
       "      <td>-0.819166</td>\n",
       "      <td>0.762759</td>\n",
       "      <td>0.922064</td>\n",
       "    </tr>\n",
       "    <tr>\n",
       "      <th>106</th>\n",
       "      <td>-1.143017</td>\n",
       "      <td>-1.281972</td>\n",
       "      <td>0.421564</td>\n",
       "      <td>0.659118</td>\n",
       "    </tr>\n",
       "    <tr>\n",
       "      <th>113</th>\n",
       "      <td>-0.173674</td>\n",
       "      <td>-1.281972</td>\n",
       "      <td>0.705893</td>\n",
       "      <td>1.053537</td>\n",
       "    </tr>\n",
       "    <tr>\n",
       "      <th>114</th>\n",
       "      <td>-0.052506</td>\n",
       "      <td>-0.587764</td>\n",
       "      <td>0.762759</td>\n",
       "      <td>1.579429</td>\n",
       "    </tr>\n",
       "    <tr>\n",
       "      <th>119</th>\n",
       "      <td>0.189830</td>\n",
       "      <td>-1.976181</td>\n",
       "      <td>0.705893</td>\n",
       "      <td>0.396172</td>\n",
       "    </tr>\n",
       "    <tr>\n",
       "      <th>121</th>\n",
       "      <td>-0.294842</td>\n",
       "      <td>-0.587764</td>\n",
       "      <td>0.649027</td>\n",
       "      <td>1.053537</td>\n",
       "    </tr>\n",
       "    <tr>\n",
       "      <th>123</th>\n",
       "      <td>0.553333</td>\n",
       "      <td>-0.819166</td>\n",
       "      <td>0.649027</td>\n",
       "      <td>0.790591</td>\n",
       "    </tr>\n",
       "    <tr>\n",
       "      <th>126</th>\n",
       "      <td>0.432165</td>\n",
       "      <td>-0.587764</td>\n",
       "      <td>0.592162</td>\n",
       "      <td>0.790591</td>\n",
       "    </tr>\n",
       "    <tr>\n",
       "      <th>133</th>\n",
       "      <td>0.553333</td>\n",
       "      <td>-0.587764</td>\n",
       "      <td>0.762759</td>\n",
       "      <td>0.396172</td>\n",
       "    </tr>\n",
       "    <tr>\n",
       "      <th>134</th>\n",
       "      <td>0.310998</td>\n",
       "      <td>-1.050569</td>\n",
       "      <td>1.047087</td>\n",
       "      <td>0.264699</td>\n",
       "    </tr>\n",
       "    <tr>\n",
       "      <th>138</th>\n",
       "      <td>0.189830</td>\n",
       "      <td>-0.124958</td>\n",
       "      <td>0.592162</td>\n",
       "      <td>0.790591</td>\n",
       "    </tr>\n",
       "    <tr>\n",
       "      <th>142</th>\n",
       "      <td>-0.052506</td>\n",
       "      <td>-0.819166</td>\n",
       "      <td>0.762759</td>\n",
       "      <td>0.922064</td>\n",
       "    </tr>\n",
       "    <tr>\n",
       "      <th>146</th>\n",
       "      <td>0.553333</td>\n",
       "      <td>-1.281972</td>\n",
       "      <td>0.705893</td>\n",
       "      <td>0.922064</td>\n",
       "    </tr>\n",
       "    <tr>\n",
       "      <th>149</th>\n",
       "      <td>0.068662</td>\n",
       "      <td>-0.124958</td>\n",
       "      <td>0.762759</td>\n",
       "      <td>0.790591</td>\n",
       "    </tr>\n",
       "  </tbody>\n",
       "</table>\n",
       "</div>"
      ]
     },
     "execution_count": 9,
     "metadata": {},
     "output_type": "execute_result"
    }
   ],
   "execution_count": 9
  },
  {
   "metadata": {
    "ExecuteTime": {
     "end_time": "2025-01-10T14:49:56.034302700Z",
     "start_time": "2025-01-10T13:30:26.855496Z"
    }
   },
   "cell_type": "code",
   "source": "misclassified_data",
   "id": "899fae42c8b97882",
   "outputs": [
    {
     "data": {
      "text/plain": [
       "            0         1         2         3\n",
       "41  -1.627688 -1.744778 -1.398138 -1.181504\n",
       "50   1.401508  0.337848  0.535296  0.264699\n",
       "51   0.674501  0.337848  0.421564  0.396172\n",
       "52   1.280340  0.106445  0.649027  0.396172\n",
       "54   0.795669 -0.587764  0.478430  0.396172\n",
       "56   0.553333  0.569251  0.535296  0.527645\n",
       "58   0.916837 -0.356361  0.478430  0.133226\n",
       "61   0.068662 -0.124958  0.250967  0.396172\n",
       "63   0.310998 -0.356361  0.535296  0.264699\n",
       "65   1.038005  0.106445  0.364699  0.264699\n",
       "66  -0.294842 -0.124958  0.421564  0.396172\n",
       "70   0.068662  0.337848  0.592162  0.790591\n",
       "72   0.553333 -1.281972  0.649027  0.396172\n",
       "74   0.674501 -0.356361  0.307833  0.133226\n",
       "75   0.916837 -0.124958  0.364699  0.264699\n",
       "76   1.159173 -0.587764  0.592162  0.264699\n",
       "77   1.038005 -0.124958  0.705893  0.659118\n",
       "78   0.189830 -0.356361  0.421564  0.396172\n",
       "83   0.189830 -0.819166  0.762759  0.527645\n",
       "85   0.189830  0.800654  0.421564  0.527645\n",
       "86   1.038005  0.106445  0.535296  0.396172\n",
       "91   0.310998 -0.124958  0.478430  0.264699\n",
       "97   0.432165 -0.356361  0.307833  0.133226\n",
       "101 -0.052506 -0.819166  0.762759  0.922064\n",
       "103  0.553333 -0.356361  1.047087  0.790591\n",
       "108  1.038005 -1.281972  1.160819  0.790591\n",
       "111  0.674501 -0.819166  0.876490  0.922064\n",
       "113 -0.173674 -1.281972  0.705893  1.053537\n",
       "114 -0.052506 -0.587764  0.762759  1.579429\n",
       "116  0.795669 -0.124958  0.990221  0.790591\n",
       "118  2.249683 -1.050569  1.786341  1.447956\n",
       "121 -0.294842 -0.587764  0.649027  1.053537\n",
       "123  0.553333 -0.819166  0.649027  0.790591\n",
       "126  0.432165 -0.587764  0.592162  0.790591\n",
       "127  0.310998 -0.124958  0.649027  0.790591\n",
       "128  0.674501 -0.587764  1.047087  1.185010\n",
       "131  2.492019  1.726266  1.502013  1.053537\n",
       "132  0.674501 -0.587764  1.047087  1.316483\n",
       "133  0.553333 -0.587764  0.762759  0.396172\n",
       "134  0.310998 -1.050569  1.047087  0.264699\n",
       "137  0.674501  0.106445  0.990221  0.790591\n",
       "138  0.189830 -0.124958  0.592162  0.790591\n",
       "142 -0.052506 -0.819166  0.762759  0.922064\n",
       "146  0.553333 -1.281972  0.705893  0.922064\n",
       "147  0.795669 -0.124958  0.819624  1.053537\n",
       "148  0.432165  0.800654  0.933356  1.447956\n",
       "149  0.068662 -0.124958  0.762759  0.790591"
      ],
      "text/html": [
       "<div>\n",
       "<style scoped>\n",
       "    .dataframe tbody tr th:only-of-type {\n",
       "        vertical-align: middle;\n",
       "    }\n",
       "\n",
       "    .dataframe tbody tr th {\n",
       "        vertical-align: top;\n",
       "    }\n",
       "\n",
       "    .dataframe thead th {\n",
       "        text-align: right;\n",
       "    }\n",
       "</style>\n",
       "<table border=\"1\" class=\"dataframe\">\n",
       "  <thead>\n",
       "    <tr style=\"text-align: right;\">\n",
       "      <th></th>\n",
       "      <th>0</th>\n",
       "      <th>1</th>\n",
       "      <th>2</th>\n",
       "      <th>3</th>\n",
       "    </tr>\n",
       "  </thead>\n",
       "  <tbody>\n",
       "    <tr>\n",
       "      <th>41</th>\n",
       "      <td>-1.627688</td>\n",
       "      <td>-1.744778</td>\n",
       "      <td>-1.398138</td>\n",
       "      <td>-1.181504</td>\n",
       "    </tr>\n",
       "    <tr>\n",
       "      <th>50</th>\n",
       "      <td>1.401508</td>\n",
       "      <td>0.337848</td>\n",
       "      <td>0.535296</td>\n",
       "      <td>0.264699</td>\n",
       "    </tr>\n",
       "    <tr>\n",
       "      <th>51</th>\n",
       "      <td>0.674501</td>\n",
       "      <td>0.337848</td>\n",
       "      <td>0.421564</td>\n",
       "      <td>0.396172</td>\n",
       "    </tr>\n",
       "    <tr>\n",
       "      <th>52</th>\n",
       "      <td>1.280340</td>\n",
       "      <td>0.106445</td>\n",
       "      <td>0.649027</td>\n",
       "      <td>0.396172</td>\n",
       "    </tr>\n",
       "    <tr>\n",
       "      <th>54</th>\n",
       "      <td>0.795669</td>\n",
       "      <td>-0.587764</td>\n",
       "      <td>0.478430</td>\n",
       "      <td>0.396172</td>\n",
       "    </tr>\n",
       "    <tr>\n",
       "      <th>56</th>\n",
       "      <td>0.553333</td>\n",
       "      <td>0.569251</td>\n",
       "      <td>0.535296</td>\n",
       "      <td>0.527645</td>\n",
       "    </tr>\n",
       "    <tr>\n",
       "      <th>58</th>\n",
       "      <td>0.916837</td>\n",
       "      <td>-0.356361</td>\n",
       "      <td>0.478430</td>\n",
       "      <td>0.133226</td>\n",
       "    </tr>\n",
       "    <tr>\n",
       "      <th>61</th>\n",
       "      <td>0.068662</td>\n",
       "      <td>-0.124958</td>\n",
       "      <td>0.250967</td>\n",
       "      <td>0.396172</td>\n",
       "    </tr>\n",
       "    <tr>\n",
       "      <th>63</th>\n",
       "      <td>0.310998</td>\n",
       "      <td>-0.356361</td>\n",
       "      <td>0.535296</td>\n",
       "      <td>0.264699</td>\n",
       "    </tr>\n",
       "    <tr>\n",
       "      <th>65</th>\n",
       "      <td>1.038005</td>\n",
       "      <td>0.106445</td>\n",
       "      <td>0.364699</td>\n",
       "      <td>0.264699</td>\n",
       "    </tr>\n",
       "    <tr>\n",
       "      <th>66</th>\n",
       "      <td>-0.294842</td>\n",
       "      <td>-0.124958</td>\n",
       "      <td>0.421564</td>\n",
       "      <td>0.396172</td>\n",
       "    </tr>\n",
       "    <tr>\n",
       "      <th>70</th>\n",
       "      <td>0.068662</td>\n",
       "      <td>0.337848</td>\n",
       "      <td>0.592162</td>\n",
       "      <td>0.790591</td>\n",
       "    </tr>\n",
       "    <tr>\n",
       "      <th>72</th>\n",
       "      <td>0.553333</td>\n",
       "      <td>-1.281972</td>\n",
       "      <td>0.649027</td>\n",
       "      <td>0.396172</td>\n",
       "    </tr>\n",
       "    <tr>\n",
       "      <th>74</th>\n",
       "      <td>0.674501</td>\n",
       "      <td>-0.356361</td>\n",
       "      <td>0.307833</td>\n",
       "      <td>0.133226</td>\n",
       "    </tr>\n",
       "    <tr>\n",
       "      <th>75</th>\n",
       "      <td>0.916837</td>\n",
       "      <td>-0.124958</td>\n",
       "      <td>0.364699</td>\n",
       "      <td>0.264699</td>\n",
       "    </tr>\n",
       "    <tr>\n",
       "      <th>76</th>\n",
       "      <td>1.159173</td>\n",
       "      <td>-0.587764</td>\n",
       "      <td>0.592162</td>\n",
       "      <td>0.264699</td>\n",
       "    </tr>\n",
       "    <tr>\n",
       "      <th>77</th>\n",
       "      <td>1.038005</td>\n",
       "      <td>-0.124958</td>\n",
       "      <td>0.705893</td>\n",
       "      <td>0.659118</td>\n",
       "    </tr>\n",
       "    <tr>\n",
       "      <th>78</th>\n",
       "      <td>0.189830</td>\n",
       "      <td>-0.356361</td>\n",
       "      <td>0.421564</td>\n",
       "      <td>0.396172</td>\n",
       "    </tr>\n",
       "    <tr>\n",
       "      <th>83</th>\n",
       "      <td>0.189830</td>\n",
       "      <td>-0.819166</td>\n",
       "      <td>0.762759</td>\n",
       "      <td>0.527645</td>\n",
       "    </tr>\n",
       "    <tr>\n",
       "      <th>85</th>\n",
       "      <td>0.189830</td>\n",
       "      <td>0.800654</td>\n",
       "      <td>0.421564</td>\n",
       "      <td>0.527645</td>\n",
       "    </tr>\n",
       "    <tr>\n",
       "      <th>86</th>\n",
       "      <td>1.038005</td>\n",
       "      <td>0.106445</td>\n",
       "      <td>0.535296</td>\n",
       "      <td>0.396172</td>\n",
       "    </tr>\n",
       "    <tr>\n",
       "      <th>91</th>\n",
       "      <td>0.310998</td>\n",
       "      <td>-0.124958</td>\n",
       "      <td>0.478430</td>\n",
       "      <td>0.264699</td>\n",
       "    </tr>\n",
       "    <tr>\n",
       "      <th>97</th>\n",
       "      <td>0.432165</td>\n",
       "      <td>-0.356361</td>\n",
       "      <td>0.307833</td>\n",
       "      <td>0.133226</td>\n",
       "    </tr>\n",
       "    <tr>\n",
       "      <th>101</th>\n",
       "      <td>-0.052506</td>\n",
       "      <td>-0.819166</td>\n",
       "      <td>0.762759</td>\n",
       "      <td>0.922064</td>\n",
       "    </tr>\n",
       "    <tr>\n",
       "      <th>103</th>\n",
       "      <td>0.553333</td>\n",
       "      <td>-0.356361</td>\n",
       "      <td>1.047087</td>\n",
       "      <td>0.790591</td>\n",
       "    </tr>\n",
       "    <tr>\n",
       "      <th>108</th>\n",
       "      <td>1.038005</td>\n",
       "      <td>-1.281972</td>\n",
       "      <td>1.160819</td>\n",
       "      <td>0.790591</td>\n",
       "    </tr>\n",
       "    <tr>\n",
       "      <th>111</th>\n",
       "      <td>0.674501</td>\n",
       "      <td>-0.819166</td>\n",
       "      <td>0.876490</td>\n",
       "      <td>0.922064</td>\n",
       "    </tr>\n",
       "    <tr>\n",
       "      <th>113</th>\n",
       "      <td>-0.173674</td>\n",
       "      <td>-1.281972</td>\n",
       "      <td>0.705893</td>\n",
       "      <td>1.053537</td>\n",
       "    </tr>\n",
       "    <tr>\n",
       "      <th>114</th>\n",
       "      <td>-0.052506</td>\n",
       "      <td>-0.587764</td>\n",
       "      <td>0.762759</td>\n",
       "      <td>1.579429</td>\n",
       "    </tr>\n",
       "    <tr>\n",
       "      <th>116</th>\n",
       "      <td>0.795669</td>\n",
       "      <td>-0.124958</td>\n",
       "      <td>0.990221</td>\n",
       "      <td>0.790591</td>\n",
       "    </tr>\n",
       "    <tr>\n",
       "      <th>118</th>\n",
       "      <td>2.249683</td>\n",
       "      <td>-1.050569</td>\n",
       "      <td>1.786341</td>\n",
       "      <td>1.447956</td>\n",
       "    </tr>\n",
       "    <tr>\n",
       "      <th>121</th>\n",
       "      <td>-0.294842</td>\n",
       "      <td>-0.587764</td>\n",
       "      <td>0.649027</td>\n",
       "      <td>1.053537</td>\n",
       "    </tr>\n",
       "    <tr>\n",
       "      <th>123</th>\n",
       "      <td>0.553333</td>\n",
       "      <td>-0.819166</td>\n",
       "      <td>0.649027</td>\n",
       "      <td>0.790591</td>\n",
       "    </tr>\n",
       "    <tr>\n",
       "      <th>126</th>\n",
       "      <td>0.432165</td>\n",
       "      <td>-0.587764</td>\n",
       "      <td>0.592162</td>\n",
       "      <td>0.790591</td>\n",
       "    </tr>\n",
       "    <tr>\n",
       "      <th>127</th>\n",
       "      <td>0.310998</td>\n",
       "      <td>-0.124958</td>\n",
       "      <td>0.649027</td>\n",
       "      <td>0.790591</td>\n",
       "    </tr>\n",
       "    <tr>\n",
       "      <th>128</th>\n",
       "      <td>0.674501</td>\n",
       "      <td>-0.587764</td>\n",
       "      <td>1.047087</td>\n",
       "      <td>1.185010</td>\n",
       "    </tr>\n",
       "    <tr>\n",
       "      <th>131</th>\n",
       "      <td>2.492019</td>\n",
       "      <td>1.726266</td>\n",
       "      <td>1.502013</td>\n",
       "      <td>1.053537</td>\n",
       "    </tr>\n",
       "    <tr>\n",
       "      <th>132</th>\n",
       "      <td>0.674501</td>\n",
       "      <td>-0.587764</td>\n",
       "      <td>1.047087</td>\n",
       "      <td>1.316483</td>\n",
       "    </tr>\n",
       "    <tr>\n",
       "      <th>133</th>\n",
       "      <td>0.553333</td>\n",
       "      <td>-0.587764</td>\n",
       "      <td>0.762759</td>\n",
       "      <td>0.396172</td>\n",
       "    </tr>\n",
       "    <tr>\n",
       "      <th>134</th>\n",
       "      <td>0.310998</td>\n",
       "      <td>-1.050569</td>\n",
       "      <td>1.047087</td>\n",
       "      <td>0.264699</td>\n",
       "    </tr>\n",
       "    <tr>\n",
       "      <th>137</th>\n",
       "      <td>0.674501</td>\n",
       "      <td>0.106445</td>\n",
       "      <td>0.990221</td>\n",
       "      <td>0.790591</td>\n",
       "    </tr>\n",
       "    <tr>\n",
       "      <th>138</th>\n",
       "      <td>0.189830</td>\n",
       "      <td>-0.124958</td>\n",
       "      <td>0.592162</td>\n",
       "      <td>0.790591</td>\n",
       "    </tr>\n",
       "    <tr>\n",
       "      <th>142</th>\n",
       "      <td>-0.052506</td>\n",
       "      <td>-0.819166</td>\n",
       "      <td>0.762759</td>\n",
       "      <td>0.922064</td>\n",
       "    </tr>\n",
       "    <tr>\n",
       "      <th>146</th>\n",
       "      <td>0.553333</td>\n",
       "      <td>-1.281972</td>\n",
       "      <td>0.705893</td>\n",
       "      <td>0.922064</td>\n",
       "    </tr>\n",
       "    <tr>\n",
       "      <th>147</th>\n",
       "      <td>0.795669</td>\n",
       "      <td>-0.124958</td>\n",
       "      <td>0.819624</td>\n",
       "      <td>1.053537</td>\n",
       "    </tr>\n",
       "    <tr>\n",
       "      <th>148</th>\n",
       "      <td>0.432165</td>\n",
       "      <td>0.800654</td>\n",
       "      <td>0.933356</td>\n",
       "      <td>1.447956</td>\n",
       "    </tr>\n",
       "    <tr>\n",
       "      <th>149</th>\n",
       "      <td>0.068662</td>\n",
       "      <td>-0.124958</td>\n",
       "      <td>0.762759</td>\n",
       "      <td>0.790591</td>\n",
       "    </tr>\n",
       "  </tbody>\n",
       "</table>\n",
       "</div>"
      ]
     },
     "execution_count": 10,
     "metadata": {},
     "output_type": "execute_result"
    }
   ],
   "execution_count": 10
  },
  {
   "metadata": {
    "ExecuteTime": {
     "end_time": "2025-01-10T14:49:56.038308200Z",
     "start_time": "2025-01-10T13:30:27.193754Z"
    }
   },
   "cell_type": "code",
   "source": "set(data[cluster_labels != original_labels].index).symmetric_difference(set(misclassified_data.index)).__len__()",
   "id": "e92173484e4f190d",
   "outputs": [
    {
     "data": {
      "text/plain": [
       "26"
      ]
     },
     "execution_count": 11,
     "metadata": {},
     "output_type": "execute_result"
    }
   ],
   "execution_count": 11
  },
  {
   "metadata": {
    "ExecuteTime": {
     "end_time": "2025-01-10T14:49:56.039305800Z",
     "start_time": "2025-01-10T13:30:27.373771Z"
    }
   },
   "cell_type": "code",
   "source": "set(data[cluster_labels != original_labels].index).difference(set(misclassified_data.index)).__len__()",
   "id": "7a96dc3fea1cee1b",
   "outputs": [
    {
     "data": {
      "text/plain": [
       "2"
      ]
     },
     "execution_count": 12,
     "metadata": {},
     "output_type": "execute_result"
    }
   ],
   "execution_count": 12
  },
  {
   "metadata": {
    "ExecuteTime": {
     "end_time": "2025-01-10T14:49:56.041312100Z",
     "start_time": "2025-01-10T13:30:27.605578Z"
    }
   },
   "cell_type": "code",
   "source": [
    "# Run post-processing and calculate metrics\n",
    "if not misclassified_data.empty:\n",
    "    print(\"Running Random Forest for post-processing...\")\n",
    "    updated_labels = post_process_with_rf(\n",
    "        stable_data, stable_labels,\n",
    "        misclassified_data,\n",
    "    )\n",
    "\n",
    "    # Update cluster_labels with the post-processed labels\n",
    "    cluster_labels.update(updated_labels)\n",
    "\n",
    "# Visualize post-processed clustering results\n",
    "print(\"Visualizing post-processed clustering results...\")\n",
    "plot_clusters(data, cluster_labels, \"Post-Processed Clustering Results\", \"../results/iris/post_processed-silhouette.png\")\n"
   ],
   "id": "8645de5834d19a43",
   "outputs": [
    {
     "name": "stdout",
     "output_type": "stream",
     "text": [
      "Running Random Forest for post-processing...\n",
      "Visualizing post-processed clustering results...\n"
     ]
    },
    {
     "data": {
      "text/plain": [
       "<Figure size 800x600 with 1 Axes>"
      ],
      "image/png": "[encoded data removed]"
     },
     "metadata": {},
     "output_type": "display_data"
    }
   ],
   "execution_count": 13
  },
  {
   "metadata": {
    "ExecuteTime": {
     "end_time": "2025-01-10T14:49:56.059304700Z",
     "start_time": "2025-01-10T13:30:28.969117Z"
    }
   },
   "cell_type": "code",
   "source": [
    "# Calculate Random Forest metrics\n",
    "rf_metrics = calculate_metrics(original_labels, cluster_labels)\n",
    "print(f\"Random Forest Metrics: {rf_metrics}\")"
   ],
   "id": "920b5705ac4b8b1c",
   "outputs": [
    {
     "name": "stdout",
     "output_type": "stream",
     "text": [
      "Random Forest Metrics: {'precision': 0.9454644362845098, 'recall': 0.94, 'accuracy': 0.94}\n"
     ]
    }
   ],
   "execution_count": 14
  },
  {
   "metadata": {
    "ExecuteTime": {
     "end_time": "2025-01-10T14:49:56.061300Z",
     "start_time": "2025-01-10T13:30:29.255998Z"
    }
   },
   "cell_type": "code",
   "source": [
    "# Consolidate metrics\n",
    "metrics_dict = {\n",
    "    \"K-Means\": kmeans_metrics,\n",
    "    \"Random Forest\": rf_metrics\n",
    "}\n",
    "\n",
    "display_and_save_metrics_table(metrics_dict, \"../results/iris/metrics-silhouette.png\")"
   ],
   "id": "78fec05379ed3310",
   "outputs": [
    {
     "name": "stdout",
     "output_type": "stream",
     "text": [
      "Metrics table saved to ../results/iris/metrics-silhouette.png\n"
     ]
    }
   ],
   "execution_count": 15
  }
 ],
 "metadata": {
  "kernelspec": {
   "display_name": "Python 3",
   "language": "python",
   "name": "python3"
  },
  "language_info": {
   "codemirror_mode": {
    "name": "ipython",
    "version": 2
   },
   "file_extension": ".py",
   "mimetype": "text/x-python",
   "name": "python",
   "nbconvert_exporter": "python",
   "pygments_lexer": "ipython2",
   "version": "2.7.6"
  }
 },
 "nbformat": 4,
 "nbformat_minor": 5
}
